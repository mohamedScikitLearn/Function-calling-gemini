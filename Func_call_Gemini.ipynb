{
  "nbformat": 4,
  "nbformat_minor": 0,
  "metadata": {
    "colab": {
      "provenance": []
    },
    "kernelspec": {
      "name": "python3",
      "display_name": "Python 3"
    },
    "language_info": {
      "name": "python"
    }
  },
  "cells": [
    {
      "cell_type": "code",
      "execution_count": null,
      "metadata": {
        "id": "-9Q_j63Y1W2C",
        "colab": {
          "base_uri": "https://localhost:8080/"
        },
        "outputId": "ca8a4f61-8496-4773-a7f3-4f97685aa960"
      },
      "outputs": [
        {
          "output_type": "stream",
          "name": "stdout",
          "text": [
            "  Preparing metadata (setup.py) ... \u001b[?25l\u001b[?25hdone\n",
            "  Building wheel for google-search-results (setup.py) ... \u001b[?25l\u001b[?25hdone\n"
          ]
        }
      ],
      "source": [
        "!pip install -q google-generativeai google-search-results\n"
      ]
    },
    {
      "cell_type": "code",
      "source": [
        "import os\n",
        "import google.generativeai as genai\n",
        "import json"
      ],
      "metadata": {
        "id": "El1ISRdH1ZtZ"
      },
      "execution_count": null,
      "outputs": []
    },
    {
      "cell_type": "code",
      "source": [
        "\n",
        "os.environ[\"SERPAPI_API_KEY\"] = serp_api_key\n",
        "genai.configure(api_key=os.environ[\"GEMINI_API_KEY\"])\n"
      ],
      "metadata": {
        "id": "siVcMvru1wmw"
      },
      "execution_count": null,
      "outputs": []
    },
    {
      "cell_type": "code",
      "source": [
        "from serpapi import GoogleSearch\n",
        "\n",
        "params = {\n",
        "  \"engine\": \"google\",\n",
        "  \"q\": \"olivet weather\",\n",
        "  \"api_key\": \"api_key\",\n",
        "  \"location\":\"Paris, France\"\n",
        "}\n",
        "\n",
        "search = GoogleSearch(params)\n",
        "results = search.get_dict()\n",
        "answer_box = results[\"answer_box\"]\n",
        "\n"
      ],
      "metadata": {
        "id": "BCX_hQezzlDs"
      },
      "execution_count": null,
      "outputs": []
    },
    {
      "cell_type": "code",
      "source": [],
      "metadata": {
        "colab": {
          "base_uri": "https://localhost:8080/"
        },
        "id": "_F-CwGQHn9aL",
        "outputId": "ed0809f8-aa67-4f34-966a-5dc46bbb2190"
      },
      "execution_count": null,
      "outputs": [
        {
          "output_type": "stream",
          "name": "stdout",
          "text": [
            "type\n",
            "temperature\n",
            "unit\n",
            "precipitation\n",
            "humidity\n",
            "wind\n",
            "location\n",
            "date\n",
            "weather\n",
            "thumbnail\n",
            "forecast\n",
            "hourly_forecast\n",
            "precipitation_forecast\n",
            "wind_forecast\n",
            "sources\n"
          ]
        }
      ]
    },
    {
      "cell_type": "code",
      "source": [
        "response_data = {\n",
        "    'type': 'weather_data',\n",
        "    'temperature': 72,\n",
        "    'unit': 'F',\n",
        "    'precipitation': '0.2 inches',\n",
        "    'humidity': '45%',\n",
        "    'wind': '10 mph',\n",
        "    'location': 'New York',\n",
        "    'date': '2024-07-30',\n",
        "    'weather': 'Partly cloudy',\n",
        "    'thumbnail': 'url_to_thumbnail',\n",
        "    'forecast': 'Detailed forecast data',\n",
        "    'hourly_forecast': 'Detailed hourly forecast data',\n",
        "    'precipitation_forecast': 'Detailed precipitation forecast data',\n",
        "    'wind_forecast': 'Detailed wind forecast data',\n",
        "    'sources': ['Source 1', 'Source 2']\n",
        "}\n",
        "\n",
        "sources = get_weather_sources(response_data)\n",
        "print(sources)"
      ],
      "metadata": {
        "id": "S5j6VX6wuG1Z",
        "outputId": "8a0cacae-1417-496f-e321-a5a344ab3dbd",
        "colab": {
          "base_uri": "https://localhost:8080/",
          "height": 199
        }
      },
      "execution_count": null,
      "outputs": [
        {
          "output_type": "error",
          "ename": "NameError",
          "evalue": "name 'get_weather_sources' is not defined",
          "traceback": [
            "\u001b[0;31m---------------------------------------------------------------------------\u001b[0m",
            "\u001b[0;31mNameError\u001b[0m                                 Traceback (most recent call last)",
            "\u001b[0;32m<ipython-input-67-3385596097c7>\u001b[0m in \u001b[0;36m<cell line: 19>\u001b[0;34m()\u001b[0m\n\u001b[1;32m     17\u001b[0m }\n\u001b[1;32m     18\u001b[0m \u001b[0;34m\u001b[0m\u001b[0m\n\u001b[0;32m---> 19\u001b[0;31m \u001b[0msources\u001b[0m \u001b[0;34m=\u001b[0m \u001b[0mget_weather_sources\u001b[0m\u001b[0;34m(\u001b[0m\u001b[0mresponse_data\u001b[0m\u001b[0;34m)\u001b[0m\u001b[0;34m\u001b[0m\u001b[0;34m\u001b[0m\u001b[0m\n\u001b[0m\u001b[1;32m     20\u001b[0m \u001b[0mprint\u001b[0m\u001b[0;34m(\u001b[0m\u001b[0msources\u001b[0m\u001b[0;34m)\u001b[0m\u001b[0;34m\u001b[0m\u001b[0;34m\u001b[0m\u001b[0m\n",
            "\u001b[0;31mNameError\u001b[0m: name 'get_weather_sources' is not defined"
          ]
        }
      ]
    },
    {
      "cell_type": "code",
      "source": [
        "if top_stories['type']!=\"weather_result\":\n",
        "  print('da')"
      ],
      "metadata": {
        "id": "Csuy4RJFf1DY"
      },
      "execution_count": null,
      "outputs": []
    },
    {
      "cell_type": "code",
      "source": [
        "weather= list(results['answer_box'].items())[1:9]\n",
        "weather_string = \", \".join(f\"{key}: {value}\" for key, value in weather)\n",
        "weather_string"
      ],
      "metadata": {
        "colab": {
          "base_uri": "https://localhost:8080/",
          "height": 35
        },
        "id": "G1sNA3zYhX6Y",
        "outputId": "05cbcad5-15c0-495d-f854-687e5da409c5"
      },
      "execution_count": null,
      "outputs": [
        {
          "output_type": "execute_result",
          "data": {
            "text/plain": [
              "'temperature: 80, unit: Fahrenheit, precipitation: 15%, humidity: 67%, wind: 10 mph, location: Olivet, MI, date: Tuesday 12:00 PM, weather: Partly cloudy'"
            ],
            "application/vnd.google.colaboratory.intrinsic+json": {
              "type": "string"
            }
          },
          "metadata": {},
          "execution_count": 62
        }
      ]
    },
    {
      "cell_type": "code",
      "source": [
        "\n",
        "print(answer_box['temperature'])\n",
        "answer_box['unit']\n",
        "answer_box['precipitation']\n",
        "answer_box['humidity']\n",
        "answer_box['wind']\n",
        "answer_box['location']\n",
        "answer_box['date']\n",
        "answer_box['weather']\n"
      ],
      "metadata": {
        "colab": {
          "base_uri": "https://localhost:8080/",
          "height": 53
        },
        "id": "Es9iXpmOfgsQ",
        "outputId": "3d3b979b-64c0-4dac-f278-d889d692cbe5"
      },
      "execution_count": null,
      "outputs": [
        {
          "output_type": "stream",
          "name": "stdout",
          "text": [
            "80\n"
          ]
        },
        {
          "output_type": "execute_result",
          "data": {
            "text/plain": [
              "'Partly cloudy'"
            ],
            "application/vnd.google.colaboratory.intrinsic+json": {
              "type": "string"
            }
          },
          "metadata": {},
          "execution_count": 58
        }
      ]
    },
    {
      "cell_type": "code",
      "source": [
        "link= top_stories.get('sources')[0]['link']"
      ],
      "metadata": {
        "colab": {
          "base_uri": "https://localhost:8080/",
          "height": 35
        },
        "id": "w2Q1fvdlRvUF",
        "outputId": "07672fc0-e245-445a-dab5-91ff4f148f5d"
      },
      "execution_count": null,
      "outputs": [
        {
          "output_type": "execute_result",
          "data": {
            "text/plain": [
              "'https://www.weather.com/wx/today/?lat=42.44&lon=-84.92&locale=en_US&par=google&temp=f'"
            ],
            "application/vnd.google.colaboratory.intrinsic+json": {
              "type": "string"
            }
          },
          "metadata": {},
          "execution_count": 46
        }
      ]
    },
    {
      "cell_type": "code",
      "source": [
        "pfrom serpapi import GoogleSearch\n",
        "\n",
        "params = {\n",
        "  \"q\": \"Trump news\",\n",
        "  \"api_key\": \"\",\n",
        "  \"gl\": \"ae\",\n",
        "  \"hl\":\"en\",\n",
        "  \"engine\":\"google_light\"\n",
        "}\n",
        "search = GoogleSearch(params)\n",
        "\n",
        "results = search.get_dict()\n",
        "if 'top_stories' in results:\n",
        "  print(results['top_stories'])\n",
        "\n",
        "\n",
        "if 'answer_box'  in results:\n",
        "\n",
        "  if 'snippet' in results['answer_box']:\n",
        "    print(results[\"answer_box\"].get(\"snippet\"))\n",
        "    print(results[\"answer_box\"].get(\"link\"))\n",
        "\n",
        "\n",
        "    #return results['answer_box'].get('snippet')\n",
        "  if 'temperature' in results['answer_box']:\n",
        "\n",
        "    weather= list(results['answer_box'].items())[1:9]\n",
        "    weather_string = \", \".join(f\"{key}: {value}\" for key, value in weather)\n",
        "\n",
        "    print(weather_string)\n"
      ],
      "metadata": {
        "id": "uyUEO7SZxSQI"
      },
      "execution_count": null,
      "outputs": []
    },
    {
      "cell_type": "code",
      "source": [
        "results[\"answer_box\"]"
      ],
      "metadata": {
        "colab": {
          "base_uri": "https://localhost:8080/"
        },
        "id": "egSaoLfCQCkO",
        "outputId": "76e28f84-5313-48f9-946a-65f8d9f48095"
      },
      "execution_count": null,
      "outputs": [
        {
          "output_type": "execute_result",
          "data": {
            "text/plain": [
              "{'type': 'organic_result',\n",
              " 'title': 'Bananas 101: Nutrition Facts and Health Benefits - Healthline',\n",
              " 'link': 'https://www.healthline.com/nutrition/foods/bananas#:~:text=Bananas%20are%20a%20good%20source,benefits%20heart%20health%20(%206%20).',\n",
              " 'displayed_link': 'https://www.healthline.com › nutrition › foods › bananas',\n",
              " 'date': 'Feb 21, 2023',\n",
              " 'snippet': 'Bananas are a good source of several vitamins and minerals, especially potassium, vitamin B6, and vitamin C ( 1 ). Potassium. Bananas are a good source of potassium. A diet high in potassium can lower blood pressure in people with elevated levels and benefits heart health ( 6 ).',\n",
              " 'snippet_highlighted_words': ['a good source of several vitamins and minerals, especially potassium, vitamin B6, and vitamin C'],\n",
              " 'favicon': 'https://serpapi.com/searches/669d80a40a90c7a998e34006/images/a0d006be335c3630d9c4cae5278455ab6c77dc6b1187d7bf.png',\n",
              " 'source': 'Healthline',\n",
              " 'thumbnail': 'https://serpapi.com/searches/669d80a40a90c7a998e34006/images/a0d006be335c3630a9f46e524e8219fc5503e03c449edfd1.jpeg'}"
            ]
          },
          "metadata": {},
          "execution_count": 11
        }
      ]
    },
    {
      "cell_type": "code",
      "source": [],
      "metadata": {
        "id": "mfYLtnf3LyB3"
      },
      "execution_count": null,
      "outputs": []
    },
    {
      "cell_type": "code",
      "source": [
        "finance"
      ],
      "metadata": {
        "colab": {
          "base_uri": "https://localhost:8080/",
          "height": 107
        },
        "id": "CmE9SlYhaY-v",
        "outputId": "cc576280-9cc6-449f-daeb-fa69ebd130b7"
      },
      "execution_count": null,
      "outputs": [
        {
          "output_type": "execute_result",
          "data": {
            "text/plain": [
              "\"type: finance_results, title: NVIDIA Corp, exchange: NASDAQ, stock: NVDA, currency: USD, price: 117.93, thumbnail: https://serpapi.com/searches/669cfcde11c881600c58b265/images/c4d97dd2fd1ce4284e160961483f1381d1d46c73689e1eba.png, price_movement: {'price': 3.16, 'percentage': 2.61, 'movement': 'Down', 'date': 'today'}, market: {'closed': True, 'date': 'Jul 19, 7:59 PM EDT', 'trading': 'After hours', 'price': 118.0, 'price_movement': {'price': 0.07, 'percentage': 0.059, 'movement': 'Up'}}, previous_close: 121.09, table: [{'name': 'Open', 'value': 120.35}, {'name': 'High', 'value': 121.6}, {'name': 'Low', 'value': 117.37}, {'name': 'Mkt cap', 'value': 2900000000000}, {'name': 'P/E ratio', 'value': 69.02}, {'name': 'Div yield', 'value': 0.034}, {'name': 'CDP scoreA measure of the actions a company takes to address climate change.View score details • About CDP scores', 'value': '-'}, {'name': '52-wk high', 'value': 140.76}, {'name': '52-wk low', 'value': 39.23}]\""
            ],
            "application/vnd.google.colaboratory.intrinsic+json": {
              "type": "string"
            }
          },
          "metadata": {},
          "execution_count": 144
        }
      ]
    },
    {
      "cell_type": "code",
      "source": [
        "'finance_results', 'finance_results', 'google_flights', 'time','organic_result'\n"
      ],
      "metadata": {
        "id": "WPvoCc_lynjk"
      },
      "execution_count": null,
      "outputs": []
    },
    {
      "cell_type": "code",
      "source": [
        "answer_box.get('snippet')"
      ],
      "metadata": {
        "colab": {
          "base_uri": "https://localhost:8080/",
          "height": 35
        },
        "id": "D2xokujG_7vI",
        "outputId": "a3e72c5a-19f9-4211-f16a-f6f6d4caebb6"
      },
      "execution_count": null,
      "outputs": [
        {
          "output_type": "execute_result",
          "data": {
            "text/plain": [
              "'Bananas are a healthy source of fiber, potassium, vitamin B6, vitamin C, and various antioxidants and phytonutrients. Many types and sizes exist.'"
            ],
            "application/vnd.google.colaboratory.intrinsic+json": {
              "type": "string"
            }
          },
          "metadata": {},
          "execution_count": 89
        }
      ]
    },
    {
      "cell_type": "code",
      "source": [
        "list(answer_box.items())[:9]"
      ],
      "metadata": {
        "colab": {
          "base_uri": "https://localhost:8080/"
        },
        "id": "BUT-WU3kxzXR",
        "outputId": "ba7f2949-6ce6-4b8c-eb9e-127ca5decabd"
      },
      "execution_count": null,
      "outputs": [
        {
          "output_type": "execute_result",
          "data": {
            "text/plain": [
              "[('type', 'weather_result'),\n",
              " ('temperature', '78'),\n",
              " ('unit', 'Fahrenheit'),\n",
              " ('precipitation', '10%'),\n",
              " ('humidity', '55%'),\n",
              " ('wind', '10 mph'),\n",
              " ('location', 'Olivet, France'),\n",
              " ('date', 'Monday'),\n",
              " ('weather', 'Partly cloudy')]"
            ]
          },
          "metadata": {},
          "execution_count": 63
        }
      ]
    },
    {
      "cell_type": "code",
      "source": [
        "from serpapi import GoogleSearch\n",
        "\n",
        "\n",
        "def get_answer_box(query):\n",
        "    print(\"Parsed query: \", query)\n",
        "\n",
        "    search = GoogleSearch({\n",
        "        \"q\": query,\n",
        "        \"api_key\": os.getenv('SERPAPI_API_KEY')\n",
        "    })\n",
        "    result = search.get_dict()\n",
        "\n",
        "    if 'top_stories' not in result:\n",
        "        return \"No top stories found\"\n",
        "\n",
        "    return result['top_stories']\n",
        "\n",
        "# function declaration\n",
        "get_answer_box_declaration = {\n",
        "    'name': \"get_answer_box\",\n",
        "    'description': \"Get the answer box result for real-time data from a search query\",\n",
        "    'parameters': {\n",
        "        \"type\": \"object\",\n",
        "        \"properties\": {\n",
        "            \"query\": {\n",
        "                \"type\": \"string\",\n",
        "                \"description\": \"The query to search for\"\n",
        "            }\n",
        "        },\n",
        "        \"required\": [\n",
        "            \"query\"\n",
        "        ]\n",
        "    },\n",
        "}\n"
      ],
      "metadata": {
        "id": "PWYWCZSE3vyE"
      },
      "execution_count": null,
      "outputs": []
    },
    {
      "cell_type": "code",
      "source": [
        "prompt = \"what are latest news about Gaza?\"\n",
        "model = genai.GenerativeModel('gemini-1.5-flash')\n",
        "response = model.generate_content(\n",
        "    prompt,\n",
        "    tools=[{\n",
        "        'function_declarations': [get_answer_box_declaration],\n",
        "    }],\n",
        ")"
      ],
      "metadata": {
        "id": "W4Y9w6uX37W3"
      },
      "execution_count": null,
      "outputs": []
    },
    {
      "cell_type": "code",
      "source": [
        "function_call = response.candidates[0].content.parts[0].function_call\n",
        "args = function_call.args\n",
        "function_name = function_call.name\n"
      ],
      "metadata": {
        "id": "cPZy8rPs_86N"
      },
      "execution_count": null,
      "outputs": []
    },
    {
      "cell_type": "code",
      "source": [
        "if function_name == 'get_answer_box':\n",
        "    result = get_answer_box(args['query'])\n"
      ],
      "metadata": {
        "colab": {
          "base_uri": "https://localhost:8080/"
        },
        "id": "DvOop6BhAbu2",
        "outputId": "c253bc89-2381-408b-dd75-8f6ca68f6245"
      },
      "execution_count": null,
      "outputs": [
        {
          "output_type": "stream",
          "name": "stdout",
          "text": [
            "Parsed query:  what are latest news about Gaza\n"
          ]
        }
      ]
    },
    {
      "cell_type": "code",
      "source": [
        "data_from_api = json.dumps(result)[:500]\n",
        "\n",
        "# Call AI model to generate natural language\n",
        "response = model.generate_content(\n",
        "    \"\"\"\n",
        "    Based on this information: `\"\"\" + data_from_api + \"\"\"`\n",
        "    and this question: `\"\"\" + prompt + \"\"\"`\n",
        "    response in a journalistisc detailed way.\n",
        "    mention references\n",
        "    \"\"\",\n",
        ")\n",
        "print(response.text)\n"
      ],
      "metadata": {
        "colab": {
          "base_uri": "https://localhost:8080/",
          "height": 343
        },
        "id": "x6BXEGJQ4Kbw",
        "outputId": "3ac25596-7ce0-4ad0-a27e-2203f8a7c75e"
      },
      "execution_count": null,
      "outputs": [
        {
          "output_type": "stream",
          "name": "stdout",
          "text": [
            "##  Gaza Under Fire: Drone Strike Hits Tel Aviv, ICJ Condemns Israeli Occupation\n",
            "\n",
            "The ongoing conflict in Gaza continues to escalate, with a recent drone strike hitting Tel Aviv, killing one person and injuring at least ten, according to AP News [1]. This incident follows a tense period of cross-border violence between Israel and Hamas, the governing group in Gaza. \n",
            "\n",
            "Adding further fuel to the fire, the International Court of Justice (ICJ) has issued a ruling that Israel's occupation of Palestinian land violates international law [2]. The ICJ's decision, though non-binding, carries significant weight and could increase pressure on Israel to withdraw from the occupied territories.\n",
            "\n",
            "**The Drone Strike:** The AP News report [1] details the impact of the drone strike, highlighting the casualties and the escalating nature of the conflict. The incident underscores the growing risk of civilian casualties in both Gaza and Israel as the conflict intensifies. \n",
            "\n",
            "**The ICJ Ruling:** Al Jazeera News [2] reports on the ICJ's ruling, emphasizing the court's condemnation of Israel's ongoing occupation. This landmark decision could have major implications for the future of the Israeli-Palestinian conflict, potentially leading to increased international scrutiny and diplomatic pressure.\n",
            "\n",
            "The situation in Gaza remains volatile, with both sides continuing to engage in acts of violence. The drone strike in Tel Aviv and the ICJ's ruling highlight the complex and multifaceted nature of the conflict, with far-reaching consequences for the region and the international community.\n",
            "\n",
            "**References:**\n",
            "\n",
            "1. \"Gaza war latest: Drone strike hits Tel Aviv, killing 1 and injuring at least 10,\" AP News, July 19, 2023. [https://apnews.com/article/gaza-israel-war-latest-july-19-492ba73dec4b72f4365ebcfb80124e3b](https://apnews.com/article/gaza-israel-war-latest-july-19-492ba73dec4b72f4365ebcfb80124e3b)\n",
            "2. \"Israeli occupation of Palestinian land breaches international law: ICJ,\" Al Jazeera News, July 19, 2023. [https://www.aljazeera.com/news/live](https://www.aljazeera.com/news/live) \n",
            "\n"
          ]
        }
      ]
    },
    {
      "cell_type": "code",
      "source": [
        "import json"
      ],
      "metadata": {
        "id": "vl_c8lzC6QJE"
      },
      "execution_count": null,
      "outputs": []
    },
    {
      "cell_type": "code",
      "source": [],
      "metadata": {
        "id": "v2B4NLkC_akK"
      },
      "execution_count": null,
      "outputs": []
    }
  ]
}